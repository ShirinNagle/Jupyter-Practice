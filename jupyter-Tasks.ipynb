{
 "cells": [
  {
   "cell_type": "markdown",
   "metadata": {},
   "source": [
    "# Tasks\n",
    "***"
   ]
  },
  {
   "cell_type": "markdown",
   "metadata": {},
   "source": [
    "Attempted solutions to the Tasks assessment. Author is Shirin Nagle(G00363458@gmit.ie)\n",
    "***"
   ]
  },
  {
   "cell_type": "markdown",
   "metadata": {},
   "source": [
    "### Task 1: Calculate the square root of 2 correct to 100 decimal places.\n",
    "***\n",
    "\n",
    "Before I looked up how to find the square root of a  number I decided to try and see if I could come up with a way of figuring out a basic method. Which definitely means not a very efficient way of calculating a square root as I do not have a maths background. I am hoping that doing this may help me understand the problems of calculating square roots. I decided to use basic maths operators, + - / \\*. To work on a small number (x)first but not the number 2. To decide on what number to divide x by. \n",
    "\n",
    "I randomly picked 5(x) as my small number and 2(y) as my dividing number, only because I find it easier to halve numbers. \n",
    "\n",
    "A square root of a number is a value that, when multiplied by itself, gives the number. Example: 4 × 4 = 16, so a square root of 16 is 4[1].\n",
    "\n",
    "\n",
    "\n",
    "Workings:\n",
    "\n",
    "x/y = z.\n",
    "\n",
    "5/2 = 2.5. To check if 2.5 is the square root of 5, 2.5 * 2.5 needs to equal 5 if it is the square root.\n",
    "\n",
    "2.5 * 2.5 = 6.25, which is not equal to 5. \n",
    "6.25 is too big, so I need to divide 5(x) by a bigger number (y)to get a smaller result(z). I added 0.5 to y. \n",
    "y = 2.5.\n",
    "5/2.5 = 2. 2 * 2 = 4, which is not equal to 5, but I can say that the square root of 5 is somewhere between 2 and 2.5.\n",
    "\n",
    "Dividing a small number by 2, 2.5 or 3 works fine for small numbers but once the numbers get bigger dividing by a small number like 2 is an extra step that may be unneccesary.\n",
    "\n",
    "I very quickly can see how difficult it is to calulate a square root without having a method to follow.\n",
    "\n",
    "I searched on the internet to see what the most common methods of finding a square root are.\n",
    "\n",
    "The Babylonians are credited with possibly the first algorithm for calculating the square root of a number [2].\n",
    "\n",
    "\n",
    "\n",
    "\n",
    "Square root of a number can be calculated using Newton's method[3].\n",
    "\n",
    "To find the square root of $z$ of a number $x$, we can iterate using the following equation. \n",
    "\n",
    "$$ z = z - \\frac{z^2 - x}{2z} $$\n",
    "\n",
    "[1] Square Root Definition; https://www.mathsisfun.com/definitions/square-root.html\n",
    "\n",
    "[2] Babylonian Method; https://en.wikipedia.org/wiki/Methods_of_computing_square_roots\n",
    "\n",
    "[3]A tour of Go; Exercises: Loops and Functions;  https://tour.golang.org/flowcontrol/8"
   ]
  },
  {
   "cell_type": "code",
   "execution_count": 1,
   "metadata": {},
   "outputs": [],
   "source": [
    "def sqrt(x):\n",
    "    \"\"\"\n",
    "    A function to calculate the square root of a number x.\n",
    "    \"\"\"\n",
    "    # initial guess for the square root of z\n",
    "    z = x / 2.5\n",
    "    # loop unitl happy with accuracy \n",
    "    while abs(x - (z * z)) > 0.000001 :\n",
    "        # calculate a better guess for the square root\n",
    "        z -= (z*z - x) / (2 * z)\n",
    "    # Return the approximate square root of x\n",
    "    return z"
   ]
  },
  {
   "cell_type": "code",
   "execution_count": 2,
   "metadata": {},
   "outputs": [
    {
     "data": {
      "text/plain": [
       "7.000000000577794"
      ]
     },
     "execution_count": 2,
     "metadata": {},
     "output_type": "execute_result"
    }
   ],
   "source": [
    "# Test the function on 100\n",
    "sqrt(49)"
   ]
  },
  {
   "cell_type": "code",
   "execution_count": 3,
   "metadata": {},
   "outputs": [
    {
     "data": {
      "text/plain": [
       "7.000000000577794"
      ]
     },
     "execution_count": 3,
     "metadata": {},
     "output_type": "execute_result"
    }
   ],
   "source": [
    "sqrt(49)"
   ]
  },
  {
   "cell_type": "code",
   "execution_count": 4,
   "metadata": {},
   "outputs": [
    {
     "data": {
      "text/plain": [
       "1.4142135658496038"
      ]
     },
     "execution_count": 4,
     "metadata": {},
     "output_type": "execute_result"
    }
   ],
   "source": [
    "sqrt(2)"
   ]
  },
  {
   "cell_type": "code",
   "execution_count": 5,
   "metadata": {},
   "outputs": [
    {
     "data": {
      "text/plain": [
       "1.4142135658496038"
      ]
     },
     "execution_count": 5,
     "metadata": {},
     "output_type": "execute_result"
    }
   ],
   "source": [
    "sqrt(2)"
   ]
  },
  {
   "cell_type": "code",
   "execution_count": 6,
   "metadata": {},
   "outputs": [
    {
     "data": {
      "text/plain": [
       "1.4142135658496038"
      ]
     },
     "execution_count": 6,
     "metadata": {},
     "output_type": "execute_result"
    }
   ],
   "source": [
    "sqrt(2)"
   ]
  },
  {
   "cell_type": "code",
   "execution_count": 7,
   "metadata": {},
   "outputs": [
    {
     "data": {
      "text/plain": [
       "1.4142135623730951"
      ]
     },
     "execution_count": 7,
     "metadata": {},
     "output_type": "execute_result"
    }
   ],
   "source": [
    "import math\n",
    "math.sqrt(2)"
   ]
  },
  {
   "cell_type": "code",
   "execution_count": 8,
   "metadata": {},
   "outputs": [
    {
     "data": {
      "text/plain": [
       "1.4142135658496038"
      ]
     },
     "execution_count": 8,
     "metadata": {},
     "output_type": "execute_result"
    }
   ],
   "source": [
    "sqrt(2)"
   ]
  },
  {
   "cell_type": "code",
   "execution_count": 9,
   "metadata": {},
   "outputs": [
    {
     "data": {
      "text/plain": [
       "1.4142135658496038"
      ]
     },
     "execution_count": 9,
     "metadata": {},
     "output_type": "execute_result"
    }
   ],
   "source": [
    "sqrt(2)"
   ]
  },
  {
   "cell_type": "code",
   "execution_count": null,
   "metadata": {},
   "outputs": [],
   "source": []
  }
 ],
 "metadata": {
  "kernelspec": {
   "display_name": "Python 3",
   "language": "python",
   "name": "python3"
  },
  "language_info": {
   "codemirror_mode": {
    "name": "ipython",
    "version": 3
   },
   "file_extension": ".py",
   "mimetype": "text/x-python",
   "name": "python",
   "nbconvert_exporter": "python",
   "pygments_lexer": "ipython3",
   "version": "3.8.3"
  }
 },
 "nbformat": 4,
 "nbformat_minor": 4
}
