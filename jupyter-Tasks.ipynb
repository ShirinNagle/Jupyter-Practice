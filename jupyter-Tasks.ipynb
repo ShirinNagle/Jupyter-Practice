{
 "cells": [
  {
   "cell_type": "markdown",
   "metadata": {},
   "source": [
    "# Tasks\n",
    "***"
   ]
  },
  {
   "cell_type": "markdown",
   "metadata": {},
   "source": [
    "Attempted solutions to the Tasks assessment. Author is Shirin Nagle(G00363458@gmit.ie)\n",
    "***"
   ]
  },
  {
   "cell_type": "markdown",
   "metadata": {},
   "source": [
    "### Task 1: Calculate the square root of 2 correct to 100 decimal places.\n",
    "***\n",
    "\n",
    "Before I looked up how to find the square root of a  number I decided to try and see if I could come up with a way of figuring out a basic method. Which definitely means not a very efficient way of calculating a square root as I do not have a maths background. I am hoping that doing this may help me understand the problems of calculating square roots. I decided to use basic maths operators, + - / \\*. To work on a small number (x) but not the number 2. To decide on what number to divide x by. \n",
    "\n",
    "I randomly picked 5(x) as my small number and 2(y) as my dividing number.\n",
    "\n",
    "A square root of a number is a value that, when multiplied by itself, gives the number. Example: 4 × 4 = 16, so a square root of 16 is 4[1].\n",
    "\n",
    "\n",
    "\n",
    "Workings:\n",
    "\n",
    "x/y = z.\n",
    "\n",
    "5/2 = 2.5. To check if 2.5 is the square root of 5, 2.5 * 2.5 needs to equal 5 if it is the square root.\n",
    "\n",
    "2.5 * 2.5 = 6.25, which is not equal to 5. \n",
    "6.25 is too big, so I need to divide 5(x) by a bigger number (y)to get a smaller result(z). I added 0.5 to y. \n",
    "y = 2.5.\n",
    "5/2.5 = 2. 2 * 2 = 4, which is not equal to 5, but I can say that the square root of 5 is somewhere greater than 2 and less than 2.5.\n",
    "\n",
    "5 -(2)(2) = 1, the difference between 2 squared and 5 is 1. I decided to divide 5(x) by 2.25(y). Y is now bigger than 2 and less than 2.5.\n",
    "\n",
    "5/2.25 = 2.22222R, 2.2222R * 2.2222R = 4.938..\n",
    "2.25 * 2.25 = 5.0625\n",
    "\n",
    "I can see that 2.222R squared is quite near to 5, and 2.25 squared is quite near to 5. So the square root must be between 2.222R and 2.25. \n",
    "\n",
    "5/2.23 = 2.242152466367713 * 2.242152466367713 = 5.027247682438818\n",
    "\n",
    "The square root of 5 must be between 2.23 and 2.24. \n",
    "\n",
    "5/2.235 = 2.237136465324385 * 2.237136465324385 = 5.004779564484083\n",
    "\n",
    "Getting closer to 5, the square root must be between 2.35 and 2.37\n",
    "\n",
    "5/2.236 = 2.23613595706619 * 2.23613595706619 = 5.000304018484325\n",
    "\n",
    "\n",
    "\n",
    "Dividing a small number by 2, 2.5 or 3 works fine for small numbers but once the numbers get bigger dividing by a small number like 2 is an extra step that may be unneccesary.\n",
    "\n",
    "I very quickly can see how difficult it is to calulate a square root without having a method to follow.\n",
    "\n",
    "I searched on the internet to see what the most common methods of finding a square root are.\n",
    "\n",
    "The Babylonians are credited with possibly the first algorithm for calculating the square root of a number [2].\n",
    "\n",
    "But decided to follow Newton's method after being pointed in the right direction.\n",
    "\n",
    "\n",
    "Square root of a number can be calculated using Newton's method[3].\n",
    "\n",
    "To find the square root of $z$ of a number $x$, we can iterate using the following equation. \n",
    "\n",
    "$$ z = z - \\frac{z^2 - x}{2z} $$"
   ]
  },
  {
   "cell_type": "code",
   "execution_count": 1,
   "metadata": {},
   "outputs": [],
   "source": [
    "def sqrt(x):\n",
    "    \"\"\"\n",
    "    A function to calculate the square root of a number x.\n",
    "    \"\"\"\n",
    "    # initial guess for the square root of z\n",
    "    z = x / 2.5\n",
    "    # loop unitl happy with accuracy \n",
    "    while abs(x - (z * z)) > 0.000001 :\n",
    "        # calculate a better guess for the square root\n",
    "        z -= (z*z - x) / (2 * z)\n",
    "    # Return the approximate square root of x\n",
    "    return z"
   ]
  },
  {
   "cell_type": "code",
   "execution_count": 2,
   "metadata": {},
   "outputs": [
    {
     "data": {
      "text/plain": [
       "7.000000000577794"
      ]
     },
     "execution_count": 2,
     "metadata": {},
     "output_type": "execute_result"
    }
   ],
   "source": [
    "# Test the function on 49\n",
    "sqrt(49)"
   ]
  },
  {
   "cell_type": "markdown",
   "metadata": {},
   "source": [
    "Testing the function on 2"
   ]
  },
  {
   "cell_type": "code",
   "execution_count": 4,
   "metadata": {},
   "outputs": [
    {
     "data": {
      "text/plain": [
       "1.4142135658496038"
      ]
     },
     "execution_count": 4,
     "metadata": {},
     "output_type": "execute_result"
    }
   ],
   "source": [
    "sqrt(2)"
   ]
  },
  {
   "cell_type": "markdown",
   "metadata": {},
   "source": [
    "Importing math to check what the square root of 2 is."
   ]
  },
  {
   "cell_type": "code",
   "execution_count": 48,
   "metadata": {},
   "outputs": [
    {
     "data": {
      "text/plain": [
       "1.4142135623730951"
      ]
     },
     "execution_count": 48,
     "metadata": {},
     "output_type": "execute_result"
    }
   ],
   "source": [
    "import math\n",
    "math.sqrt(2)"
   ]
  },
  {
   "cell_type": "markdown",
   "metadata": {},
   "source": [
    "Comparing value of the square root of 2 importing math and the value of square root of two using the written function"
   ]
  },
  {
   "cell_type": "code",
   "execution_count": 8,
   "metadata": {},
   "outputs": [
    {
     "data": {
      "text/plain": [
       "1.4142135658496038"
      ]
     },
     "execution_count": 8,
     "metadata": {},
     "output_type": "execute_result"
    }
   ],
   "source": [
    "sqrt(2)"
   ]
  },
  {
   "cell_type": "markdown",
   "metadata": {},
   "source": [
    "Testing how many decimal places can be displayed."
   ]
  },
  {
   "cell_type": "code",
   "execution_count": 4,
   "metadata": {},
   "outputs": [],
   "source": [
    "def sqrt(x):\n",
    "    \"\"\"\n",
    "    A function to calculate the square root of a number x.\n",
    "    \"\"\"\n",
    "    # initial guess for the square root of z\n",
    "    z = x / 2.5\n",
    "    # loop unitl happy with accuracy \n",
    "    while abs(x - (z * z)) > 0.000001 :\n",
    "        # calculate a better guess for the square root\n",
    "        z -= (z*z - x) / (2 * z)\n",
    "    # Return the approximate square root of x\n",
    "    return z"
   ]
  },
  {
   "cell_type": "code",
   "execution_count": 5,
   "metadata": {},
   "outputs": [
    {
     "data": {
      "text/plain": [
       "2.0000000929222947"
      ]
     },
     "execution_count": 5,
     "metadata": {},
     "output_type": "execute_result"
    }
   ],
   "source": [
    "sqrt(4)"
   ]
  },
  {
   "cell_type": "code",
   "execution_count": 6,
   "metadata": {},
   "outputs": [
    {
     "name": "stdout",
     "output_type": "stream",
     "text": [
      "4.000000\n"
     ]
    }
   ],
   "source": [
    "a = 4\n",
    "sqrt(a)\n",
    "print(\"{:.6f}\".format(a))"
   ]
  },
  {
   "cell_type": "code",
   "execution_count": 7,
   "metadata": {},
   "outputs": [
    {
     "name": "stdout",
     "output_type": "stream",
     "text": [
      "4.0000000000000000\n"
     ]
    }
   ],
   "source": [
    "a = 4\n",
    "sqrt(a)\n",
    "print(\"{:.16f}\".format(a))"
   ]
  },
  {
   "cell_type": "code",
   "execution_count": 8,
   "metadata": {},
   "outputs": [
    {
     "name": "stdout",
     "output_type": "stream",
     "text": [
      "4\n"
     ]
    }
   ],
   "source": [
    "a = 4\n",
    "sqrt(a)\n",
    "print(format(a, '.12g'))"
   ]
  },
  {
   "cell_type": "code",
   "execution_count": 9,
   "metadata": {},
   "outputs": [
    {
     "data": {
      "text/plain": [
       "'4'"
      ]
     },
     "execution_count": 9,
     "metadata": {},
     "output_type": "execute_result"
    }
   ],
   "source": [
    "a = 4\n",
    "sqrt(a)\n",
    "format(a, '.12g')"
   ]
  },
  {
   "cell_type": "code",
   "execution_count": 10,
   "metadata": {},
   "outputs": [
    {
     "name": "stdout",
     "output_type": "stream",
     "text": [
      "8\n"
     ]
    }
   ],
   "source": [
    "a = 8\n",
    "sqrt(a)\n",
    "print(format(a, '.12g'))"
   ]
  },
  {
   "cell_type": "code",
   "execution_count": 11,
   "metadata": {},
   "outputs": [
    {
     "data": {
      "text/plain": [
       "2.828427125924596"
      ]
     },
     "execution_count": 11,
     "metadata": {},
     "output_type": "execute_result"
    }
   ],
   "source": [
    "a = 8\n",
    "sqrt(a)\n"
   ]
  },
  {
   "cell_type": "code",
   "execution_count": 12,
   "metadata": {},
   "outputs": [
    {
     "name": "stdout",
     "output_type": "stream",
     "text": [
      "8\n"
     ]
    }
   ],
   "source": [
    "print(a)"
   ]
  },
  {
   "cell_type": "code",
   "execution_count": 13,
   "metadata": {},
   "outputs": [
    {
     "name": "stdout",
     "output_type": "stream",
     "text": [
      "2.82842712592\n"
     ]
    }
   ],
   "source": [
    "a = 8\n",
    "sqrt(a)\n",
    "print(format(sqrt(a), '.12g'))"
   ]
  },
  {
   "cell_type": "code",
   "execution_count": 14,
   "metadata": {},
   "outputs": [
    {
     "name": "stdout",
     "output_type": "stream",
     "text": [
      "2.82842712592459610832\n"
     ]
    }
   ],
   "source": [
    "a = 8\n",
    "sqrt(a)\n",
    "print(format(sqrt(a), '.22g'))"
   ]
  },
  {
   "cell_type": "code",
   "execution_count": 15,
   "metadata": {},
   "outputs": [
    {
     "name": "stdout",
     "output_type": "stream",
     "text": [
      "2.828427125924596108319519771612249314785\n"
     ]
    }
   ],
   "source": [
    "a = 8\n",
    "sqrt(a)\n",
    "print(format(sqrt(a), '.42g'))"
   ]
  },
  {
   "cell_type": "code",
   "execution_count": 16,
   "metadata": {},
   "outputs": [
    {
     "name": "stdout",
     "output_type": "stream",
     "text": [
      "2.828427125924596108319519771612249314785003662109375\n"
     ]
    }
   ],
   "source": [
    "a = 8\n",
    "sqrt(a)\n",
    "print(format(sqrt(a), '.100g'))"
   ]
  },
  {
   "cell_type": "code",
   "execution_count": 17,
   "metadata": {},
   "outputs": [
    {
     "name": "stdout",
     "output_type": "stream",
     "text": [
      "2.828427125924596108319519771612249314785003662109375\n"
     ]
    }
   ],
   "source": [
    "a = 8\n",
    "sqrt(a)\n",
    "print(format(sqrt(a), '.99g'))"
   ]
  },
  {
   "cell_type": "code",
   "execution_count": 18,
   "metadata": {},
   "outputs": [
    {
     "name": "stdout",
     "output_type": "stream",
     "text": [
      "2.83\n"
     ]
    }
   ],
   "source": [
    "a = 8\n",
    "sqrt(a)\n",
    "print(format(sqrt(a), '.2f'))"
   ]
  },
  {
   "cell_type": "code",
   "execution_count": 19,
   "metadata": {},
   "outputs": [
    {
     "name": "stdout",
     "output_type": "stream",
     "text": [
      "2.8284271259245961083195\n"
     ]
    }
   ],
   "source": [
    "a = 8\n",
    "sqrt(a)\n",
    "print(format(sqrt(a), '.22f'))"
   ]
  },
  {
   "cell_type": "markdown",
   "metadata": {},
   "source": [
    "### How to display 100 Decimal places\n",
    "\n",
    "Python shows up to 16 decimal places by default, this doesn't mean that the number being stored is limited to 16 decimal places. The number stored will contain as many decimal places as there are in the number. Looking at Python Documentation I found how to display more decimal places by using string formatting to produce a limited number of significant digits[4]\n",
    "Using format(sqrt(a), '.2g') displays to 2 significant digits\n"
   ]
  },
  {
   "cell_type": "code",
   "execution_count": 20,
   "metadata": {},
   "outputs": [
    {
     "name": "stdout",
     "output_type": "stream",
     "text": [
      "2.8\n"
     ]
    }
   ],
   "source": [
    "a = 8\n",
    "sqrt(a)\n",
    "print(format(sqrt(a), '.2g'))"
   ]
  },
  {
   "cell_type": "markdown",
   "metadata": {},
   "source": [
    "Trying the same values but showing 12 significant figures."
   ]
  },
  {
   "cell_type": "code",
   "execution_count": 21,
   "metadata": {},
   "outputs": [
    {
     "name": "stdout",
     "output_type": "stream",
     "text": [
      "2.82842712592\n"
     ]
    }
   ],
   "source": [
    "a = 8\n",
    "sqrt(a)\n",
    "print(format(sqrt(a), '.12g'))"
   ]
  },
  {
   "cell_type": "markdown",
   "metadata": {},
   "source": [
    "Trying the same values but showing 42 significant figures."
   ]
  },
  {
   "cell_type": "code",
   "execution_count": 22,
   "metadata": {},
   "outputs": [
    {
     "name": "stdout",
     "output_type": "stream",
     "text": [
      "2.828427125924596108319519771612249314785\n"
     ]
    }
   ],
   "source": [
    "a = 8\n",
    "sqrt(a)\n",
    "print(format(sqrt(a), '.42g'))"
   ]
  },
  {
   "cell_type": "markdown",
   "metadata": {},
   "source": [
    "Only 40 significant digits are displayed as the 2 digits after 85 are 0's. Trying the same values but showing 43 significant digits."
   ]
  },
  {
   "cell_type": "code",
   "execution_count": 23,
   "metadata": {},
   "outputs": [
    {
     "name": "stdout",
     "output_type": "stream",
     "text": [
      "2.828427125924596108319519771612249314785004\n"
     ]
    }
   ],
   "source": [
    "a = 8\n",
    "sqrt(a)\n",
    "print(format(sqrt(a), '.43g'))"
   ]
  },
  {
   "cell_type": "markdown",
   "metadata": {},
   "source": [
    "Trying the same values but showing 53 significant digits."
   ]
  },
  {
   "cell_type": "code",
   "execution_count": 26,
   "metadata": {},
   "outputs": [
    {
     "name": "stdout",
     "output_type": "stream",
     "text": [
      "2.828427125924596108319519771612249314785003662109375\n"
     ]
    }
   ],
   "source": [
    "\n",
    "print(format(sqrt(a), '.53g'))"
   ]
  },
  {
   "cell_type": "markdown",
   "metadata": {},
   "source": [
    "Changing the value of a to see if more digits will display"
   ]
  },
  {
   "cell_type": "code",
   "execution_count": 33,
   "metadata": {},
   "outputs": [
    {
     "name": "stdout",
     "output_type": "stream",
     "text": [
      "1.414213565849603781998666818253695964813232421875\n"
     ]
    }
   ],
   "source": [
    "a = 2\n",
    "sqrt(a)\n",
    "print(format(sqrt(a), '.50g'))"
   ]
  },
  {
   "cell_type": "markdown",
   "metadata": {},
   "source": [
    "There seems to be a limit to to the digits displayed for the square root of 2, using format(a, '.50g') only displays 49 significant digits. I f I use a higer number only 49 digits are displayed, as shown below"
   ]
  },
  {
   "cell_type": "code",
   "execution_count": 34,
   "metadata": {},
   "outputs": [
    {
     "name": "stdout",
     "output_type": "stream",
     "text": [
      "1.414213565849603781998666818253695964813232421875\n"
     ]
    }
   ],
   "source": [
    "a = 2\n",
    "sqrt(a)\n",
    "print(format(sqrt(a), '.79g'))"
   ]
  },
  {
   "cell_type": "markdown",
   "metadata": {},
   "source": [
    "I thought it may be possible that there were a lot of 's after ...875 but I checked on NASA's website to see what the next numbers were and it wasn't lots of 0's, NASA have calculated the square root of 2 to one million places [5].\n",
    "\n"
   ]
  },
  {
   "cell_type": "markdown",
   "metadata": {},
   "source": [
    "Trying format(sqrt(a), '.2f') to see what the limit is on displaying decimal places."
   ]
  },
  {
   "cell_type": "code",
   "execution_count": 35,
   "metadata": {},
   "outputs": [
    {
     "name": "stdout",
     "output_type": "stream",
     "text": [
      "1.41\n"
     ]
    }
   ],
   "source": [
    "a = 2\n",
    "sqrt(a)\n",
    "print(format(sqrt(a), '.2f'))"
   ]
  },
  {
   "cell_type": "raw",
   "metadata": {},
   "source": [
    "Trying to 12 decimal places"
   ]
  },
  {
   "cell_type": "code",
   "execution_count": 36,
   "metadata": {},
   "outputs": [
    {
     "name": "stdout",
     "output_type": "stream",
     "text": [
      "1.414213565850\n"
     ]
    }
   ],
   "source": [
    "a = 2\n",
    "sqrt(a)\n",
    "print(format(sqrt(a), '.12f'))"
   ]
  },
  {
   "cell_type": "markdown",
   "metadata": {},
   "source": [
    "Trying to 20 decimal places"
   ]
  },
  {
   "cell_type": "code",
   "execution_count": 37,
   "metadata": {},
   "outputs": [
    {
     "name": "stdout",
     "output_type": "stream",
     "text": [
      "1.41421356584960378200\n"
     ]
    }
   ],
   "source": [
    "a = 2\n",
    "sqrt(a)\n",
    "print(format(sqrt(a), '.20f'))"
   ]
  },
  {
   "cell_type": "markdown",
   "metadata": {},
   "source": [
    "Trying to 50 decimal places."
   ]
  },
  {
   "cell_type": "code",
   "execution_count": 38,
   "metadata": {},
   "outputs": [
    {
     "name": "stdout",
     "output_type": "stream",
     "text": [
      "1.41421356584960378199866681825369596481323242187500\n"
     ]
    }
   ],
   "source": [
    "a = 2\n",
    "sqrt(a)\n",
    "print(format(sqrt(a), '.50f'))"
   ]
  },
  {
   "cell_type": "markdown",
   "metadata": {},
   "source": [
    "Trying to print 99 decimal places"
   ]
  },
  {
   "cell_type": "code",
   "execution_count": 40,
   "metadata": {},
   "outputs": [
    {
     "name": "stdout",
     "output_type": "stream",
     "text": [
      "1.414213565849603781998666818253695964813232421875000000000000000000000000000000000000000000000000000\n"
     ]
    }
   ],
   "source": [
    "a = 2\n",
    "sqrt(a)\n",
    "print(format(sqrt(a), '.99f'))"
   ]
  },
  {
   "cell_type": "markdown",
   "metadata": {},
   "source": [
    "The format(sqrt(a), '.99f') just seems to be adding 0's to the end of the square root."
   ]
  },
  {
   "cell_type": "markdown",
   "metadata": {},
   "source": [
    "Importing math to see what the actual output should be."
   ]
  },
  {
   "cell_type": "code",
   "execution_count": 43,
   "metadata": {},
   "outputs": [
    {
     "name": "stdout",
     "output_type": "stream",
     "text": [
      "1.4142135623730951\n",
      "1.414213562373095145474621858738828450441360473632812500000000000000000000000000000000000000000000000\n"
     ]
    }
   ],
   "source": [
    "import math\n",
    "b = math.sqrt(2)\n",
    "print(b)\n",
    "print(format(b,'.99f'))\n"
   ]
  },
  {
   "cell_type": "markdown",
   "metadata": {},
   "source": [
    "So the above looks like python is adding on 0's to make up the 99 decimal places. "
   ]
  },
  {
   "cell_type": "code",
   "execution_count": 49,
   "metadata": {},
   "outputs": [
    {
     "name": "stdout",
     "output_type": "stream",
     "text": [
      "1.4142135658496037819986668182536959648132324218750000000000000000000000000000000000000000000000000000\n"
     ]
    }
   ],
   "source": [
    "r = sqrt(a)\n",
    "print(\"%.100f\" % r)"
   ]
  },
  {
   "cell_type": "code",
   "execution_count": 45,
   "metadata": {},
   "outputs": [
    {
     "name": "stdout",
     "output_type": "stream",
     "text": [
      "5.095241350546061e+16\n"
     ]
    }
   ],
   "source": [
    "c = sqrt(a) * 2 ** 55\n",
    "print(c)"
   ]
  },
  {
   "cell_type": "code",
   "execution_count": 46,
   "metadata": {},
   "outputs": [
    {
     "name": "stdout",
     "output_type": "stream",
     "text": [
      "1.414213565849604e+55\n"
     ]
    }
   ],
   "source": [
    "print(c * 10 ** 55 // 2 ** 55)"
   ]
  },
  {
   "cell_type": "markdown",
   "metadata": {},
   "source": [
    " Basic familiarity with binary floating-point representation is assumed. For the above code...looking up binary floating-point representation."
   ]
  },
  {
   "cell_type": "markdown",
   "metadata": {},
   "source": [
    "Stop at any finite number of bits, and you get an approximation. On most machines today, floats are approximated using a binary fraction with the numerator using the first 53 bits starting with the most significant bit and with the denominator as a power of two. In the case of 1/10, the binary fraction is 3602879701896397 / 2 ** 55 which is close to but not exactly equal to the true value of 1/10 [4]."
   ]
  },
  {
   "cell_type": "markdown",
   "metadata": {},
   "source": [
    "Testing if to the power of works without importing math"
   ]
  },
  {
   "cell_type": "code",
   "execution_count": 50,
   "metadata": {},
   "outputs": [
    {
     "name": "stdout",
     "output_type": "stream",
     "text": [
      "1.4142135623730951\n"
     ]
    }
   ],
   "source": [
    "p = 2 ** (1/2)\n",
    "print(p)"
   ]
  },
  {
   "cell_type": "code",
   "execution_count": 55,
   "metadata": {},
   "outputs": [
    {
     "name": "stdout",
     "output_type": "stream",
     "text": [
      "1.4142135623730951454746218587388284504413604736328\n",
      "1.41421356237309514547462185873882845044136047363281\n",
      "1.414213562373095145474621858738828450441360473632812\n",
      "1.4142135623730951454746218587388284504413604736328125\n",
      "1.4142135623730951454746218587388284504413604736328125\n"
     ]
    }
   ],
   "source": [
    "print(format(p, '.50g'))\n",
    "print(format(p, '.51g'))\n",
    "print(format(p, '.52g'))\n",
    "print(format(p, '.53g'))\n",
    "print(format(p, '.54g'))"
   ]
  },
  {
   "cell_type": "markdown",
   "metadata": {},
   "source": [
    "The square root of 2 correct to 100 places should be [5]:\n",
    "\n",
    "1.4142135623730950488016887242096980785696718753769480731766797379907324784621070388503875343276415727"
   ]
  },
  {
   "cell_type": "code",
   "execution_count": 2,
   "metadata": {},
   "outputs": [],
   "source": [
    "def sqrt(x):\n",
    "    \"\"\"\n",
    "    A function to calculate the square root of a number x.\n",
    "    \"\"\"\n",
    "    # initial guess for the square root of z\n",
    "    z = x / 2.5\n",
    "    # loop unitl happy with accuracy \n",
    "    while abs(x - (z * z)) > 0.000001 :\n",
    "        # calculate a better guess for the square root\n",
    "        z -= (z*z - x) / (2 * z)\n",
    "    # Return the approximate square root of x\n",
    "    return z"
   ]
  },
  {
   "cell_type": "code",
   "execution_count": 16,
   "metadata": {},
   "outputs": [
    {
     "name": "stdout",
     "output_type": "stream",
     "text": [
      "1.414213565849603781998666818253695964813232421875\n"
     ]
    },
    {
     "data": {
      "text/plain": [
       "'1.4142135658496038'"
      ]
     },
     "execution_count": 16,
     "metadata": {},
     "output_type": "execute_result"
    }
   ],
   "source": [
    "r = sqrt(2)\n",
    "print(format(r, '.53g'))\n",
    "repr(r)\n"
   ]
  },
  {
   "cell_type": "markdown",
   "metadata": {},
   "source": [
    "### References Task 1\n",
    "\n",
    "[1] Square Root Definition; https://www.mathsisfun.com/definitions/square-root.html\n",
    "\n",
    "[2] Babylonian Method; https://en.wikipedia.org/wiki/Methods_of_computing_square_roots\n",
    "\n",
    "[3] A tour of Go; Exercises: Loops and Functions;  https://tour.golang.org/flowcontrol/8\n",
    "\n",
    "[4] Floating Point Arithmetic: Issues and Limitations; https://docs.python.org/3/tutorial/floatingpoint.html\n",
    "\n",
    "[5] Square root of 2 to one million places; https://apod.nasa.gov/htmltest/gifcity/sqrt2.1mil\n",
    "\n",
    "[6] Floating Point Numbers; https://floating-point-gui.de/formats/fp/\n",
    "\n",
    "[7] IEEE 754-2008; https://en.wikipedia.org/wiki/IEEE_754-2008_revision\n",
    "\n",
    "[8] Geeks for Geeks; https://www.geeksforgeeks.org/python-float-type-and-its-methods/\n"
   ]
  },
  {
   "cell_type": "markdown",
   "metadata": {},
   "source": [
    "### Task 2: Chi squared Test\n"
   ]
  },
  {
   "cell_type": "markdown",
   "metadata": {},
   "source": [
    "##### Contingency table to calculate Chi squared test for independence [1].\n",
    "<br>\n",
    "<span style=\"text-decoration: underline\">                  A    B    C    D    Total</span> \n",
    "<br>\n",
    "<span>White Collar 90 60    104 95 349</span>\n",
    "<br>\n",
    "<span>Blue Collar   30 50    51 20 151</span>\n",
    "<br>\n",
    "<span>No Collar     30 40   45 35  150</span>\n",
    "<br>\n",
    "<span style=\"text-decoration: bold\">Total        150 150 200 150 650</span>\n"
   ]
  },
  {
   "cell_type": "code",
   "execution_count": 3,
   "metadata": {},
   "outputs": [
    {
     "data": {
      "text/plain": [
       "(24.5712028585826,\n",
       " 0.0004098425861096696,\n",
       " 6,\n",
       " array([[ 80.53846154,  80.53846154, 107.38461538,  80.53846154],\n",
       "        [ 34.84615385,  34.84615385,  46.46153846,  34.84615385],\n",
       "        [ 34.61538462,  34.61538462,  46.15384615,  34.61538462]]))"
      ]
     },
     "execution_count": 3,
     "metadata": {},
     "output_type": "execute_result"
    }
   ],
   "source": [
    "# import chi2_contingency, hard coded values for the contingency table - testing if chi2_contingency works\n",
    "# https://docs.scipy.org/doc/scipy/reference/generated/scipy.stats.chi2_contingency.html [2]\n",
    "from scipy.stats import chi2_contingency\n",
    "import numpy as np\n",
    "obs = np.array([[90, 60, 104, 95], [30, 50, 51, 20], [30,40,45,35]])\n",
    "chi2_contingency(obs)\n"
   ]
  },
  {
   "cell_type": "markdown",
   "metadata": {},
   "source": [
    "Worked out Chi squared value, p value and degree of freedom. These workings are contained in a folder titled Research in a document titled Task 2. The above figures of 24.5712028585826, 0.0004098425861096696, 6 and the array of figures all correspond to the values in the document titled task 2. Note the values in the document task 2 were simplified to two decimal places.\n"
   ]
  },
  {
   "cell_type": "markdown",
   "metadata": {},
   "source": [
    "Chi squared value = 24.57, p value = 0.0004, degree of freedom = 6.\n",
    "A p value of < 0.05 is thought of as being \"significant\" meaning we think the variables are not independent. Because 0.0004 < 0.05 we think that economic background is linked to the type of neighbourhood lived in [3].\n"
   ]
  },
  {
   "cell_type": "markdown",
   "metadata": {},
   "source": [
    "### References Task 2\n",
    "\n",
    "[1] Data for contingency table; Wikipedia.org; https://en.wikipedia.org/wiki/Chi-squared_test\n",
    "\n",
    "[2] Explanation of scipy.stats; https://docs.scipy.org/doc/scipy/reference/generated/scipy.stats.chi2_contingency.html\n",
    "\n",
    "[3] Explanation of Chi squared, p value and degree of freedom with worked example; https://www.mathsisfun.com/data/chi-square-test.html\n"
   ]
  },
  {
   "cell_type": "markdown",
   "metadata": {},
   "source": [
    "### Task 3\n",
    "The standard deviation of an array of numbers x is calculated using numpy as \n",
    "np.sqrt(np.sum((x - np.mean(x))\\**2)/len(x)). However, Microsoft Excel has two different versions of the standard deviation calculation, STDEV.P and STDEV.S. The STDEV.P function performs the above calculation but in the STDEV.S calculation the division is by len(x)-1rather than len(x). Research these Excel functions, writing a note in a Markdown cell about the difference between them. Then use numpy to perform a simulation demonstrating that the STDDEV.S calculation is a better estimate for the standard deviation of a population when performed on a sample. Note that part of this task is to figure out the terminology in the previous sentence."
   ]
  },
  {
   "cell_type": "markdown",
   "metadata": {},
   "source": [
    "What is Standard Deviation?\n",
    " Standard deviation is a measure of how much variance there is in a set of numbers compared to the average (mean) of the numbers. The STDEV.P function is meant to estimate standard deviation for an entire population. If data represents a sample, use the STDEV.S function[1].\n",
    "\n",
    "In Excel STDEV.P is calculated using this fomula <br><br>\n",
    "$$\\begin{equation*}\n",
    "\\sigma =  \\sqrt{\\frac{\\sum (x_i- \\mu)^2}{N}}\n",
    "\\end{equation*}$$<br>\n",
    "$\\sigma$\t= \tpopulation standard deviation<br>\n",
    "N\t= \tthe size of the population<br>\n",
    "$x_i$\t= \teach value from the population<br>\n",
    "$\\mu$ = the population mean. <br><br>\n",
    "In Excel STDEV.S is calculated using this fomula<br><br>\n",
    "\n",
    "s\t= \tsample standard deviation<br>\n",
    "N\t= \tthe size of the population<br>\n",
    "$x_i$\t= \teach value from the population<br>\n",
    "$\\bar{x}$ = the sample population mean. <br><br>\n",
    "$$\\begin{equation*}\n",
    "s =  \\sqrt{\\frac{\\sum (x_i- \\bar{x})^2}{N - 1}}\n",
    "\\end{equation*}$$<br>\n",
    "<br>\n",
    "\n"
   ]
  },
  {
   "cell_type": "code",
   "execution_count": 14,
   "metadata": {},
   "outputs": [
    {
     "name": "stdout",
     "output_type": "stream",
     "text": [
      "The Standard Deviation of the population is 2.9832867780352594\n"
     ]
    }
   ],
   "source": [
    "import numpy as np\n",
    "# array of 20 numbers represents whole population\n",
    "a = np.array([9, 2, 5, 4, 12, 7, 8, 11, 9, 3, 7, 4, 12, 5, 4, 10, 9, 6, 9, 4])\n",
    "# standard deviation of a population\n",
    "np.std(a)\n",
    "print(\"The Standard Deviation of the population is % s\" %(np.std(a)))\n"
   ]
  },
  {
   "cell_type": "code",
   "execution_count": 18,
   "metadata": {},
   "outputs": [
    {
     "name": "stdout",
     "output_type": "stream",
     "text": [
      "The Standard Deviation of Sample is 3.6193922141707713\n",
      "The Standard Deviation of Sample1 is 2.6832815729997477\n",
      "The Standard Deviation of Sample2 is 3.03315017762062\n",
      "The Standard Deviation of Sample3 is 3.194455423784382\n"
     ]
    }
   ],
   "source": [
    "# https://www.geeksforgeeks.org/python-statistics-stdev/[2]\n",
    "from statistics import stdev\n",
    "# array of  numbers represents a sample of the whole population\n",
    "sample = (9, 2, 5, 4, 12, 7)\n",
    "sample1 = ( 4, 10, 9, 6, 9, 4)\n",
    "sample2 = (8, 11, 9, 3, 7, 4)\n",
    "sample3 = (9, 2, 5, 4, 12, 7, 8, 11, 9, 3, 7, 4)\n",
    "# Print the standard deviation of   \n",
    "# following sample sets of observations \n",
    "print(\"The Standard Deviation of Sample is % s\" %(stdev(sample))) \n",
    "print(\"The Standard Deviation of Sample1 is % s\" %(stdev(sample1))) \n",
    "print(\"The Standard Deviation of Sample2 is % s\" %(stdev(sample2))) \n",
    "print(\"The Standard Deviation of Sample3 is % s\" %(stdev(sample3))) \n"
   ]
  },
  {
   "cell_type": "code",
   "execution_count": 1,
   "metadata": {},
   "outputs": [],
   "source": [
    "# Need to wprk out STDev.S using numpy"
   ]
  },
  {
   "cell_type": "code",
   "execution_count": null,
   "metadata": {},
   "outputs": [],
   "source": [
    "Note about sample standard deviation:[3]\n",
    "    "
   ]
  },
  {
   "cell_type": "markdown",
   "metadata": {},
   "source": [
    "### References Task 3\n",
    "[1] What is Standard Deviation; https://exceljet.net/excel-functions/excel-stdev.p-function<br>\n",
    "[2] Example of standard deviation; https://www.geeksforgeeks.org/python-statistics-stdev/<br>\n",
    "[3] Difference between deviations; https://www.thoughtco.com/population-vs-sample-standard-deviations-3126372<br>"
   ]
  },
  {
   "cell_type": "markdown",
   "metadata": {},
   "source": [
    "## Task 4\n",
    "***\n",
    "Use scikit-learn to apply k-means clustering to Fisher’s famous Iris data set. You  will  easily  obtain  a  copy  of  the  data  set  on-line.  Explain in a Markdown cell how your code works and how accurate it might be, and then explain how your model could be used to make predictions of species of iris.<br>\n",
    " The dataset is included in R base and Python in the machine learning package Scikit-learn, so that users can access it without having to find a source for it[1]. https://scikit-learn.org/stable/tutorial/basic/tutorial.html"
   ]
  },
  {
   "cell_type": "code",
   "execution_count": 1,
   "metadata": {},
   "outputs": [
    {
     "name": "stdout",
     "output_type": "stream",
     "text": [
      "[[5.1 3.5 1.4 0.2]\n",
      " [4.9 3.  1.4 0.2]\n",
      " [4.7 3.2 1.3 0.2]\n",
      " [4.6 3.1 1.5 0.2]\n",
      " [5.  3.6 1.4 0.2]\n",
      " [5.4 3.9 1.7 0.4]\n",
      " [4.6 3.4 1.4 0.3]\n",
      " [5.  3.4 1.5 0.2]\n",
      " [4.4 2.9 1.4 0.2]\n",
      " [4.9 3.1 1.5 0.1]\n",
      " [5.4 3.7 1.5 0.2]\n",
      " [4.8 3.4 1.6 0.2]\n",
      " [4.8 3.  1.4 0.1]\n",
      " [4.3 3.  1.1 0.1]\n",
      " [5.8 4.  1.2 0.2]\n",
      " [5.7 4.4 1.5 0.4]\n",
      " [5.4 3.9 1.3 0.4]\n",
      " [5.1 3.5 1.4 0.3]\n",
      " [5.7 3.8 1.7 0.3]\n",
      " [5.1 3.8 1.5 0.3]\n",
      " [5.4 3.4 1.7 0.2]\n",
      " [5.1 3.7 1.5 0.4]\n",
      " [4.6 3.6 1.  0.2]\n",
      " [5.1 3.3 1.7 0.5]\n",
      " [4.8 3.4 1.9 0.2]\n",
      " [5.  3.  1.6 0.2]\n",
      " [5.  3.4 1.6 0.4]\n",
      " [5.2 3.5 1.5 0.2]\n",
      " [5.2 3.4 1.4 0.2]\n",
      " [4.7 3.2 1.6 0.2]\n",
      " [4.8 3.1 1.6 0.2]\n",
      " [5.4 3.4 1.5 0.4]\n",
      " [5.2 4.1 1.5 0.1]\n",
      " [5.5 4.2 1.4 0.2]\n",
      " [4.9 3.1 1.5 0.2]\n",
      " [5.  3.2 1.2 0.2]\n",
      " [5.5 3.5 1.3 0.2]\n",
      " [4.9 3.6 1.4 0.1]\n",
      " [4.4 3.  1.3 0.2]\n",
      " [5.1 3.4 1.5 0.2]\n",
      " [5.  3.5 1.3 0.3]\n",
      " [4.5 2.3 1.3 0.3]\n",
      " [4.4 3.2 1.3 0.2]\n",
      " [5.  3.5 1.6 0.6]\n",
      " [5.1 3.8 1.9 0.4]\n",
      " [4.8 3.  1.4 0.3]\n",
      " [5.1 3.8 1.6 0.2]\n",
      " [4.6 3.2 1.4 0.2]\n",
      " [5.3 3.7 1.5 0.2]\n",
      " [5.  3.3 1.4 0.2]\n",
      " [7.  3.2 4.7 1.4]\n",
      " [6.4 3.2 4.5 1.5]\n",
      " [6.9 3.1 4.9 1.5]\n",
      " [5.5 2.3 4.  1.3]\n",
      " [6.5 2.8 4.6 1.5]\n",
      " [5.7 2.8 4.5 1.3]\n",
      " [6.3 3.3 4.7 1.6]\n",
      " [4.9 2.4 3.3 1. ]\n",
      " [6.6 2.9 4.6 1.3]\n",
      " [5.2 2.7 3.9 1.4]\n",
      " [5.  2.  3.5 1. ]\n",
      " [5.9 3.  4.2 1.5]\n",
      " [6.  2.2 4.  1. ]\n",
      " [6.1 2.9 4.7 1.4]\n",
      " [5.6 2.9 3.6 1.3]\n",
      " [6.7 3.1 4.4 1.4]\n",
      " [5.6 3.  4.5 1.5]\n",
      " [5.8 2.7 4.1 1. ]\n",
      " [6.2 2.2 4.5 1.5]\n",
      " [5.6 2.5 3.9 1.1]\n",
      " [5.9 3.2 4.8 1.8]\n",
      " [6.1 2.8 4.  1.3]\n",
      " [6.3 2.5 4.9 1.5]\n",
      " [6.1 2.8 4.7 1.2]\n",
      " [6.4 2.9 4.3 1.3]\n",
      " [6.6 3.  4.4 1.4]\n",
      " [6.8 2.8 4.8 1.4]\n",
      " [6.7 3.  5.  1.7]\n",
      " [6.  2.9 4.5 1.5]\n",
      " [5.7 2.6 3.5 1. ]\n",
      " [5.5 2.4 3.8 1.1]\n",
      " [5.5 2.4 3.7 1. ]\n",
      " [5.8 2.7 3.9 1.2]\n",
      " [6.  2.7 5.1 1.6]\n",
      " [5.4 3.  4.5 1.5]\n",
      " [6.  3.4 4.5 1.6]\n",
      " [6.7 3.1 4.7 1.5]\n",
      " [6.3 2.3 4.4 1.3]\n",
      " [5.6 3.  4.1 1.3]\n",
      " [5.5 2.5 4.  1.3]\n",
      " [5.5 2.6 4.4 1.2]\n",
      " [6.1 3.  4.6 1.4]\n",
      " [5.8 2.6 4.  1.2]\n",
      " [5.  2.3 3.3 1. ]\n",
      " [5.6 2.7 4.2 1.3]\n",
      " [5.7 3.  4.2 1.2]\n",
      " [5.7 2.9 4.2 1.3]\n",
      " [6.2 2.9 4.3 1.3]\n",
      " [5.1 2.5 3.  1.1]\n",
      " [5.7 2.8 4.1 1.3]\n",
      " [6.3 3.3 6.  2.5]\n",
      " [5.8 2.7 5.1 1.9]\n",
      " [7.1 3.  5.9 2.1]\n",
      " [6.3 2.9 5.6 1.8]\n",
      " [6.5 3.  5.8 2.2]\n",
      " [7.6 3.  6.6 2.1]\n",
      " [4.9 2.5 4.5 1.7]\n",
      " [7.3 2.9 6.3 1.8]\n",
      " [6.7 2.5 5.8 1.8]\n",
      " [7.2 3.6 6.1 2.5]\n",
      " [6.5 3.2 5.1 2. ]\n",
      " [6.4 2.7 5.3 1.9]\n",
      " [6.8 3.  5.5 2.1]\n",
      " [5.7 2.5 5.  2. ]\n",
      " [5.8 2.8 5.1 2.4]\n",
      " [6.4 3.2 5.3 2.3]\n",
      " [6.5 3.  5.5 1.8]\n",
      " [7.7 3.8 6.7 2.2]\n",
      " [7.7 2.6 6.9 2.3]\n",
      " [6.  2.2 5.  1.5]\n",
      " [6.9 3.2 5.7 2.3]\n",
      " [5.6 2.8 4.9 2. ]\n",
      " [7.7 2.8 6.7 2. ]\n",
      " [6.3 2.7 4.9 1.8]\n",
      " [6.7 3.3 5.7 2.1]\n",
      " [7.2 3.2 6.  1.8]\n",
      " [6.2 2.8 4.8 1.8]\n",
      " [6.1 3.  4.9 1.8]\n",
      " [6.4 2.8 5.6 2.1]\n",
      " [7.2 3.  5.8 1.6]\n",
      " [7.4 2.8 6.1 1.9]\n",
      " [7.9 3.8 6.4 2. ]\n",
      " [6.4 2.8 5.6 2.2]\n",
      " [6.3 2.8 5.1 1.5]\n",
      " [6.1 2.6 5.6 1.4]\n",
      " [7.7 3.  6.1 2.3]\n",
      " [6.3 3.4 5.6 2.4]\n",
      " [6.4 3.1 5.5 1.8]\n",
      " [6.  3.  4.8 1.8]\n",
      " [6.9 3.1 5.4 2.1]\n",
      " [6.7 3.1 5.6 2.4]\n",
      " [6.9 3.1 5.1 2.3]\n",
      " [5.8 2.7 5.1 1.9]\n",
      " [6.8 3.2 5.9 2.3]\n",
      " [6.7 3.3 5.7 2.5]\n",
      " [6.7 3.  5.2 2.3]\n",
      " [6.3 2.5 5.  1.9]\n",
      " [6.5 3.  5.2 2. ]\n",
      " [6.2 3.4 5.4 2.3]\n",
      " [5.9 3.  5.1 1.8]]\n"
     ]
    }
   ],
   "source": [
    "from sklearn import datasets\n",
    "iris = datasets.load_iris()\n",
    "print(iris.data)"
   ]
  },
  {
   "cell_type": "markdown",
   "metadata": {},
   "source": [
    "Each piece of iris data is made up of 4 values, the number at index 0 relates to the Sepal Length, the number at index 1 relates to the Sepal width, the number at index 2 relates to the Petal Length, the number at index 3 relates to the Petal width."
   ]
  },
  {
   "cell_type": "code",
   "execution_count": null,
   "metadata": {},
   "outputs": [],
   "source": []
  }
 ],
 "metadata": {
  "kernelspec": {
   "display_name": "Python 3",
   "language": "python",
   "name": "python3"
  },
  "language_info": {
   "codemirror_mode": {
    "name": "ipython",
    "version": 3
   },
   "file_extension": ".py",
   "mimetype": "text/x-python",
   "name": "python",
   "nbconvert_exporter": "python",
   "pygments_lexer": "ipython3",
   "version": "3.8.3"
  }
 },
 "nbformat": 4,
 "nbformat_minor": 4
}
