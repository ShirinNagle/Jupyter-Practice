{
 "cells": [
  {
   "cell_type": "markdown",
   "metadata": {},
   "source": [
    "# Tasks\n",
    "***"
   ]
  },
  {
   "cell_type": "markdown",
   "metadata": {},
   "source": [
    "Attempted solutions to the Tasks assessment. Author is Shirin Nagle(G00363458@gmit.ie)\n",
    "***"
   ]
  },
  {
   "cell_type": "markdown",
   "metadata": {},
   "source": [
    "### Task 1: Calculate the square root of 2 correct to 100 decimal places.\n",
    "***\n",
    "\n",
    "Before I looked up how to find the square root of a  number I decided to try and see if I could come up with a way of figuring out a basic method. Which definitely means not a very efficient way of calculating a square root as I do not have a maths background. I am hoping that doing this may help me understand the problems of calculating square roots. I decided to use basic maths operators, + - / \\*. To work on a small number (x) but not the number 2. To decide on what number to divide x by. \n",
    "\n",
    "I randomly picked 5(x) as my small number and 2(y) as my dividing number.\n",
    "\n",
    "A square root of a number is a value that, when multiplied by itself, gives the number. Example: 4 × 4 = 16, so a square root of 16 is 4[1].\n",
    "\n",
    "\n",
    "\n",
    "Workings:\n",
    "\n",
    "x/y = z.\n",
    "\n",
    "5/2 = 2.5. To check if 2.5 is the square root of 5, 2.5 * 2.5 needs to equal 5 if it is the square root.\n",
    "\n",
    "2.5 * 2.5 = 6.25, which is not equal to 5. \n",
    "6.25 is too big, so I need to divide 5(x) by a bigger number (y)to get a smaller result(z). I added 0.5 to y. \n",
    "y = 2.5.\n",
    "5/2.5 = 2. 2 * 2 = 4, which is not equal to 5, but I can say that the square root of 5 is somewhere greater than 2 and less than 2.5.\n",
    "\n",
    "5 -(2)(2) = 1, the difference between 2 squared and 5 is 1. I decided to divide 5(x) by 2.25(y). Y is now bigger than 2 and less than 2.5.\n",
    "\n",
    "5/2.25 = 2.22222R, 2.2222R * 2.2222R = 4.938..\n",
    "2.25 * 2.25 = 5.0625\n",
    "\n",
    "I can see that 2.222R squared is quite near to 5, and 2.25 squared is quite near to 5. So the square root must be between 2.222R and 2.25. \n",
    "\n",
    "5/2.23 = 2.242152466367713 * 2.242152466367713 = 5.027247682438818\n",
    "\n",
    "The square root of 5 must be between 2.23 and 2.24. \n",
    "\n",
    "5/2.235 = 2.237136465324385 * 2.237136465324385 = 5.004779564484083\n",
    "\n",
    "Getting closer to 5, the square root must be between 2.35 and 2.37\n",
    "\n",
    "5/2.236 = 2.23613595706619 * 2.23613595706619 = 5.000304018484325\n",
    "\n",
    "\n",
    "\n",
    "Dividing a small number by 2, 2.5 or 3 works fine for small numbers but once the numbers get bigger dividing by a small number like 2 is an extra step that may be unneccesary.\n",
    "\n",
    "I very quickly can see how difficult it is to calulate a square root without having a method to follow.\n",
    "\n",
    "I searched on the internet to see what the most common methods of finding a square root are.\n",
    "\n",
    "The Babylonians are credited with possibly the first algorithm for calculating the square root of a number [2].\n",
    "\n",
    "But decided to follow Newton's method after being pointed in the right direction.\n",
    "\n",
    "\n",
    "Square root of a number can be calculated using Newton's method[3].\n",
    "\n",
    "To find the square root of $z$ of a number $x$, we can iterate using the following equation. \n",
    "\n",
    "$$ z = z - \\frac{z^2 - x}{2z} $$"
   ]
  },
  {
   "cell_type": "code",
   "execution_count": 1,
   "metadata": {},
   "outputs": [],
   "source": [
    "def sqrt(x):\n",
    "    \"\"\"\n",
    "    A function to calculate the square root of a number x.\n",
    "    \"\"\"\n",
    "    # initial guess for the square root of z\n",
    "    z = x / 2.5\n",
    "    # loop unitl happy with accuracy \n",
    "    while abs(x - (z * z)) > 0.000001 :\n",
    "        # calculate a better guess for the square root\n",
    "        z -= (z*z - x) / (2 * z)\n",
    "    # Return the approximate square root of x\n",
    "    return z"
   ]
  },
  {
   "cell_type": "code",
   "execution_count": 2,
   "metadata": {},
   "outputs": [
    {
     "data": {
      "text/plain": [
       "7.000000000577794"
      ]
     },
     "execution_count": 2,
     "metadata": {},
     "output_type": "execute_result"
    }
   ],
   "source": [
    "# Test the function on 49\n",
    "sqrt(49)"
   ]
  },
  {
   "cell_type": "markdown",
   "metadata": {},
   "source": [
    "Testing the function on 2"
   ]
  },
  {
   "cell_type": "code",
   "execution_count": 4,
   "metadata": {},
   "outputs": [
    {
     "data": {
      "text/plain": [
       "1.4142135658496038"
      ]
     },
     "execution_count": 4,
     "metadata": {},
     "output_type": "execute_result"
    }
   ],
   "source": [
    "sqrt(2)"
   ]
  },
  {
   "cell_type": "markdown",
   "metadata": {},
   "source": [
    "Importing math to check what the square root of 2 is."
   ]
  },
  {
   "cell_type": "code",
   "execution_count": 48,
   "metadata": {},
   "outputs": [
    {
     "data": {
      "text/plain": [
       "1.4142135623730951"
      ]
     },
     "execution_count": 48,
     "metadata": {},
     "output_type": "execute_result"
    }
   ],
   "source": [
    "import math\n",
    "math.sqrt(2)"
   ]
  },
  {
   "cell_type": "markdown",
   "metadata": {},
   "source": [
    "Comparing value of the square root of 2 importing math and the value of square root of two using the written function"
   ]
  },
  {
   "cell_type": "code",
   "execution_count": 8,
   "metadata": {},
   "outputs": [
    {
     "data": {
      "text/plain": [
       "1.4142135658496038"
      ]
     },
     "execution_count": 8,
     "metadata": {},
     "output_type": "execute_result"
    }
   ],
   "source": [
    "sqrt(2)"
   ]
  },
  {
   "cell_type": "markdown",
   "metadata": {},
   "source": [
    "Testing how many decimal places can be displayed."
   ]
  },
  {
   "cell_type": "code",
   "execution_count": 4,
   "metadata": {},
   "outputs": [],
   "source": [
    "def sqrt(x):\n",
    "    \"\"\"\n",
    "    A function to calculate the square root of a number x.\n",
    "    \"\"\"\n",
    "    # initial guess for the square root of z\n",
    "    z = x / 2.5\n",
    "    # loop unitl happy with accuracy \n",
    "    while abs(x - (z * z)) > 0.000001 :\n",
    "        # calculate a better guess for the square root\n",
    "        z -= (z*z - x) / (2 * z)\n",
    "    # Return the approximate square root of x\n",
    "    return z"
   ]
  },
  {
   "cell_type": "code",
   "execution_count": 5,
   "metadata": {},
   "outputs": [
    {
     "data": {
      "text/plain": [
       "2.0000000929222947"
      ]
     },
     "execution_count": 5,
     "metadata": {},
     "output_type": "execute_result"
    }
   ],
   "source": [
    "sqrt(4)"
   ]
  },
  {
   "cell_type": "code",
   "execution_count": 6,
   "metadata": {},
   "outputs": [
    {
     "name": "stdout",
     "output_type": "stream",
     "text": [
      "4.000000\n"
     ]
    }
   ],
   "source": [
    "a = 4\n",
    "sqrt(a)\n",
    "print(\"{:.6f}\".format(a))"
   ]
  },
  {
   "cell_type": "code",
   "execution_count": 7,
   "metadata": {},
   "outputs": [
    {
     "name": "stdout",
     "output_type": "stream",
     "text": [
      "4.0000000000000000\n"
     ]
    }
   ],
   "source": [
    "a = 4\n",
    "sqrt(a)\n",
    "print(\"{:.16f}\".format(a))"
   ]
  },
  {
   "cell_type": "code",
   "execution_count": 8,
   "metadata": {},
   "outputs": [
    {
     "name": "stdout",
     "output_type": "stream",
     "text": [
      "4\n"
     ]
    }
   ],
   "source": [
    "a = 4\n",
    "sqrt(a)\n",
    "print(format(a, '.12g'))"
   ]
  },
  {
   "cell_type": "code",
   "execution_count": 9,
   "metadata": {},
   "outputs": [
    {
     "data": {
      "text/plain": [
       "'4'"
      ]
     },
     "execution_count": 9,
     "metadata": {},
     "output_type": "execute_result"
    }
   ],
   "source": [
    "a = 4\n",
    "sqrt(a)\n",
    "format(a, '.12g')"
   ]
  },
  {
   "cell_type": "code",
   "execution_count": 10,
   "metadata": {},
   "outputs": [
    {
     "name": "stdout",
     "output_type": "stream",
     "text": [
      "8\n"
     ]
    }
   ],
   "source": [
    "a = 8\n",
    "sqrt(a)\n",
    "print(format(a, '.12g'))"
   ]
  },
  {
   "cell_type": "code",
   "execution_count": 11,
   "metadata": {},
   "outputs": [
    {
     "data": {
      "text/plain": [
       "2.828427125924596"
      ]
     },
     "execution_count": 11,
     "metadata": {},
     "output_type": "execute_result"
    }
   ],
   "source": [
    "a = 8\n",
    "sqrt(a)\n"
   ]
  },
  {
   "cell_type": "code",
   "execution_count": 12,
   "metadata": {},
   "outputs": [
    {
     "name": "stdout",
     "output_type": "stream",
     "text": [
      "8\n"
     ]
    }
   ],
   "source": [
    "print(a)"
   ]
  },
  {
   "cell_type": "code",
   "execution_count": 13,
   "metadata": {},
   "outputs": [
    {
     "name": "stdout",
     "output_type": "stream",
     "text": [
      "2.82842712592\n"
     ]
    }
   ],
   "source": [
    "a = 8\n",
    "sqrt(a)\n",
    "print(format(sqrt(a), '.12g'))"
   ]
  },
  {
   "cell_type": "code",
   "execution_count": 14,
   "metadata": {},
   "outputs": [
    {
     "name": "stdout",
     "output_type": "stream",
     "text": [
      "2.82842712592459610832\n"
     ]
    }
   ],
   "source": [
    "a = 8\n",
    "sqrt(a)\n",
    "print(format(sqrt(a), '.22g'))"
   ]
  },
  {
   "cell_type": "code",
   "execution_count": 15,
   "metadata": {},
   "outputs": [
    {
     "name": "stdout",
     "output_type": "stream",
     "text": [
      "2.828427125924596108319519771612249314785\n"
     ]
    }
   ],
   "source": [
    "a = 8\n",
    "sqrt(a)\n",
    "print(format(sqrt(a), '.42g'))"
   ]
  },
  {
   "cell_type": "code",
   "execution_count": 16,
   "metadata": {},
   "outputs": [
    {
     "name": "stdout",
     "output_type": "stream",
     "text": [
      "2.828427125924596108319519771612249314785003662109375\n"
     ]
    }
   ],
   "source": [
    "a = 8\n",
    "sqrt(a)\n",
    "print(format(sqrt(a), '.100g'))"
   ]
  },
  {
   "cell_type": "code",
   "execution_count": 17,
   "metadata": {},
   "outputs": [
    {
     "name": "stdout",
     "output_type": "stream",
     "text": [
      "2.828427125924596108319519771612249314785003662109375\n"
     ]
    }
   ],
   "source": [
    "a = 8\n",
    "sqrt(a)\n",
    "print(format(sqrt(a), '.99g'))"
   ]
  },
  {
   "cell_type": "code",
   "execution_count": 18,
   "metadata": {},
   "outputs": [
    {
     "name": "stdout",
     "output_type": "stream",
     "text": [
      "2.83\n"
     ]
    }
   ],
   "source": [
    "a = 8\n",
    "sqrt(a)\n",
    "print(format(sqrt(a), '.2f'))"
   ]
  },
  {
   "cell_type": "code",
   "execution_count": 19,
   "metadata": {},
   "outputs": [
    {
     "name": "stdout",
     "output_type": "stream",
     "text": [
      "2.8284271259245961083195\n"
     ]
    }
   ],
   "source": [
    "a = 8\n",
    "sqrt(a)\n",
    "print(format(sqrt(a), '.22f'))"
   ]
  },
  {
   "cell_type": "markdown",
   "metadata": {},
   "source": [
    "### How to display 100 Decimal places\n",
    "\n",
    "Python shows up to 16 decimal places by default, this doesn't mean that the number being stored is limited to 16 decimal places. The number stored will contain as many decimal places as there are in the number. Looking at Python Documentation I found how to display more decimal places by using string formatting to produce a limited number of significant digits[4]\n",
    "Using format(sqrt(a), '.2g') displays to 2 significant digits\n"
   ]
  },
  {
   "cell_type": "code",
   "execution_count": 20,
   "metadata": {},
   "outputs": [
    {
     "name": "stdout",
     "output_type": "stream",
     "text": [
      "2.8\n"
     ]
    }
   ],
   "source": [
    "a = 8\n",
    "sqrt(a)\n",
    "print(format(sqrt(a), '.2g'))"
   ]
  },
  {
   "cell_type": "markdown",
   "metadata": {},
   "source": [
    "Trying the same values but showing 12 significant figures."
   ]
  },
  {
   "cell_type": "code",
   "execution_count": 21,
   "metadata": {},
   "outputs": [
    {
     "name": "stdout",
     "output_type": "stream",
     "text": [
      "2.82842712592\n"
     ]
    }
   ],
   "source": [
    "a = 8\n",
    "sqrt(a)\n",
    "print(format(sqrt(a), '.12g'))"
   ]
  },
  {
   "cell_type": "markdown",
   "metadata": {},
   "source": [
    "Trying the same values but showing 42 significant figures."
   ]
  },
  {
   "cell_type": "code",
   "execution_count": 22,
   "metadata": {},
   "outputs": [
    {
     "name": "stdout",
     "output_type": "stream",
     "text": [
      "2.828427125924596108319519771612249314785\n"
     ]
    }
   ],
   "source": [
    "a = 8\n",
    "sqrt(a)\n",
    "print(format(sqrt(a), '.42g'))"
   ]
  },
  {
   "cell_type": "markdown",
   "metadata": {},
   "source": [
    "Only 40 significant digits are displayed as the 2 digits after 85 are 0's. Trying the same values but showing 43 significant digits."
   ]
  },
  {
   "cell_type": "code",
   "execution_count": 23,
   "metadata": {},
   "outputs": [
    {
     "name": "stdout",
     "output_type": "stream",
     "text": [
      "2.828427125924596108319519771612249314785004\n"
     ]
    }
   ],
   "source": [
    "a = 8\n",
    "sqrt(a)\n",
    "print(format(sqrt(a), '.43g'))"
   ]
  },
  {
   "cell_type": "markdown",
   "metadata": {},
   "source": [
    "Trying the same values but showing 53 significant digits."
   ]
  },
  {
   "cell_type": "code",
   "execution_count": 26,
   "metadata": {},
   "outputs": [
    {
     "name": "stdout",
     "output_type": "stream",
     "text": [
      "2.828427125924596108319519771612249314785003662109375\n"
     ]
    }
   ],
   "source": [
    "\n",
    "print(format(sqrt(a), '.53g'))"
   ]
  },
  {
   "cell_type": "markdown",
   "metadata": {},
   "source": [
    "Changing the value of a to see if more digits will display"
   ]
  },
  {
   "cell_type": "code",
   "execution_count": 33,
   "metadata": {},
   "outputs": [
    {
     "name": "stdout",
     "output_type": "stream",
     "text": [
      "1.414213565849603781998666818253695964813232421875\n"
     ]
    }
   ],
   "source": [
    "a = 2\n",
    "sqrt(a)\n",
    "print(format(sqrt(a), '.50g'))"
   ]
  },
  {
   "cell_type": "markdown",
   "metadata": {},
   "source": [
    "There seems to be a limit to to the digits displayed for the square root of 2, using format(a, '.50g') only displays 49 significant digits. I f I use a higer number only 49 digits are displayed, as shown below"
   ]
  },
  {
   "cell_type": "code",
   "execution_count": 34,
   "metadata": {},
   "outputs": [
    {
     "name": "stdout",
     "output_type": "stream",
     "text": [
      "1.414213565849603781998666818253695964813232421875\n"
     ]
    }
   ],
   "source": [
    "a = 2\n",
    "sqrt(a)\n",
    "print(format(sqrt(a), '.79g'))"
   ]
  },
  {
   "cell_type": "markdown",
   "metadata": {},
   "source": [
    "I thought it may be possible that there were a lot of 's after ...875 but I checked on NASA's website to see what the next numbers were and it wasn't lots of 0's, NASA have calculated the square root of 2 to one million places [5].\n",
    "\n"
   ]
  },
  {
   "cell_type": "markdown",
   "metadata": {},
   "source": [
    "Trying format(sqrt(a), '.2f') to see what the limit is on displaying decimal places."
   ]
  },
  {
   "cell_type": "code",
   "execution_count": 35,
   "metadata": {},
   "outputs": [
    {
     "name": "stdout",
     "output_type": "stream",
     "text": [
      "1.41\n"
     ]
    }
   ],
   "source": [
    "a = 2\n",
    "sqrt(a)\n",
    "print(format(sqrt(a), '.2f'))"
   ]
  },
  {
   "cell_type": "raw",
   "metadata": {},
   "source": [
    "Trying to 12 decimal places"
   ]
  },
  {
   "cell_type": "code",
   "execution_count": 36,
   "metadata": {},
   "outputs": [
    {
     "name": "stdout",
     "output_type": "stream",
     "text": [
      "1.414213565850\n"
     ]
    }
   ],
   "source": [
    "a = 2\n",
    "sqrt(a)\n",
    "print(format(sqrt(a), '.12f'))"
   ]
  },
  {
   "cell_type": "markdown",
   "metadata": {},
   "source": [
    "Trying to 20 decimal places"
   ]
  },
  {
   "cell_type": "code",
   "execution_count": 37,
   "metadata": {},
   "outputs": [
    {
     "name": "stdout",
     "output_type": "stream",
     "text": [
      "1.41421356584960378200\n"
     ]
    }
   ],
   "source": [
    "a = 2\n",
    "sqrt(a)\n",
    "print(format(sqrt(a), '.20f'))"
   ]
  },
  {
   "cell_type": "markdown",
   "metadata": {},
   "source": [
    "Trying to 50 decimal places."
   ]
  },
  {
   "cell_type": "code",
   "execution_count": 38,
   "metadata": {},
   "outputs": [
    {
     "name": "stdout",
     "output_type": "stream",
     "text": [
      "1.41421356584960378199866681825369596481323242187500\n"
     ]
    }
   ],
   "source": [
    "a = 2\n",
    "sqrt(a)\n",
    "print(format(sqrt(a), '.50f'))"
   ]
  },
  {
   "cell_type": "markdown",
   "metadata": {},
   "source": [
    "Trying to print 99 decimal places"
   ]
  },
  {
   "cell_type": "code",
   "execution_count": 40,
   "metadata": {},
   "outputs": [
    {
     "name": "stdout",
     "output_type": "stream",
     "text": [
      "1.414213565849603781998666818253695964813232421875000000000000000000000000000000000000000000000000000\n"
     ]
    }
   ],
   "source": [
    "a = 2\n",
    "sqrt(a)\n",
    "print(format(sqrt(a), '.99f'))"
   ]
  },
  {
   "cell_type": "markdown",
   "metadata": {},
   "source": [
    "The format(sqrt(a), '.99f') just seems to be adding 0's to the end of the square root."
   ]
  },
  {
   "cell_type": "markdown",
   "metadata": {},
   "source": [
    "Importing math to see what the actual output should be."
   ]
  },
  {
   "cell_type": "code",
   "execution_count": 43,
   "metadata": {},
   "outputs": [
    {
     "name": "stdout",
     "output_type": "stream",
     "text": [
      "1.4142135623730951\n",
      "1.414213562373095145474621858738828450441360473632812500000000000000000000000000000000000000000000000\n"
     ]
    }
   ],
   "source": [
    "import math\n",
    "b = math.sqrt(2)\n",
    "print(b)\n",
    "print(format(b,'.99f'))\n"
   ]
  },
  {
   "cell_type": "markdown",
   "metadata": {},
   "source": [
    "So the above looks like python is adding on 0's to make up the 99 decimal places. "
   ]
  },
  {
   "cell_type": "code",
   "execution_count": 49,
   "metadata": {},
   "outputs": [
    {
     "name": "stdout",
     "output_type": "stream",
     "text": [
      "1.4142135658496037819986668182536959648132324218750000000000000000000000000000000000000000000000000000\n"
     ]
    }
   ],
   "source": [
    "r = sqrt(a)\n",
    "print(\"%.100f\" % r)"
   ]
  },
  {
   "cell_type": "code",
   "execution_count": 45,
   "metadata": {},
   "outputs": [
    {
     "name": "stdout",
     "output_type": "stream",
     "text": [
      "5.095241350546061e+16\n"
     ]
    }
   ],
   "source": [
    "c = sqrt(a) * 2 ** 55\n",
    "print(c)"
   ]
  },
  {
   "cell_type": "code",
   "execution_count": 46,
   "metadata": {},
   "outputs": [
    {
     "name": "stdout",
     "output_type": "stream",
     "text": [
      "1.414213565849604e+55\n"
     ]
    }
   ],
   "source": [
    "print(c * 10 ** 55 // 2 ** 55)"
   ]
  },
  {
   "cell_type": "markdown",
   "metadata": {},
   "source": [
    " Basic familiarity with binary floating-point representation is assumed. For the above code...looking up binary floating-point representation."
   ]
  },
  {
   "cell_type": "markdown",
   "metadata": {},
   "source": [
    "Stop at any finite number of bits, and you get an approximation. On most machines today, floats are approximated using a binary fraction with the numerator using the first 53 bits starting with the most significant bit and with the denominator as a power of two. In the case of 1/10, the binary fraction is 3602879701896397 / 2 ** 55 which is close to but not exactly equal to the true value of 1/10 [4]."
   ]
  },
  {
   "cell_type": "markdown",
   "metadata": {},
   "source": [
    "Testing if to the power of works without importing math"
   ]
  },
  {
   "cell_type": "code",
   "execution_count": 50,
   "metadata": {},
   "outputs": [
    {
     "name": "stdout",
     "output_type": "stream",
     "text": [
      "1.4142135623730951\n"
     ]
    }
   ],
   "source": [
    "p = 2 ** (1/2)\n",
    "print(p)"
   ]
  },
  {
   "cell_type": "code",
   "execution_count": 55,
   "metadata": {},
   "outputs": [
    {
     "name": "stdout",
     "output_type": "stream",
     "text": [
      "1.4142135623730951454746218587388284504413604736328\n",
      "1.41421356237309514547462185873882845044136047363281\n",
      "1.414213562373095145474621858738828450441360473632812\n",
      "1.4142135623730951454746218587388284504413604736328125\n",
      "1.4142135623730951454746218587388284504413604736328125\n"
     ]
    }
   ],
   "source": [
    "print(format(p, '.50g'))\n",
    "print(format(p, '.51g'))\n",
    "print(format(p, '.52g'))\n",
    "print(format(p, '.53g'))\n",
    "print(format(p, '.54g'))"
   ]
  },
  {
   "cell_type": "markdown",
   "metadata": {},
   "source": [
    "The square root of 2 correct to 100 places should be [5]:\n",
    "\n",
    "1.4142135623730950488016887242096980785696718753769480731766797379907324784621070388503875343276415727"
   ]
  },
  {
   "cell_type": "code",
   "execution_count": 1,
   "metadata": {},
   "outputs": [
    {
     "ename": "NameError",
     "evalue": "name 'sqrt' is not defined",
     "output_type": "error",
     "traceback": [
      "\u001b[1;31m---------------------------------------------------------------------------\u001b[0m",
      "\u001b[1;31mNameError\u001b[0m                                 Traceback (most recent call last)",
      "\u001b[1;32m<ipython-input-1-0978a704ee51>\u001b[0m in \u001b[0;36m<module>\u001b[1;34m\u001b[0m\n\u001b[1;32m----> 1\u001b[1;33m \u001b[0mr\u001b[0m \u001b[1;33m=\u001b[0m \u001b[0msqrt\u001b[0m\u001b[1;33m(\u001b[0m\u001b[0ma\u001b[0m\u001b[1;33m)\u001b[0m\u001b[1;33m\u001b[0m\u001b[1;33m\u001b[0m\u001b[0m\n\u001b[0m\u001b[0;32m      2\u001b[0m \u001b[0mprint\u001b[0m\u001b[1;33m(\u001b[0m\u001b[0mformat\u001b[0m\u001b[1;33m(\u001b[0m\u001b[0mr\u001b[0m\u001b[1;33m,\u001b[0m \u001b[1;34m'.53g'\u001b[0m\u001b[1;33m)\u001b[0m\u001b[1;33m)\u001b[0m\u001b[1;33m\u001b[0m\u001b[1;33m\u001b[0m\u001b[0m\n\u001b[0;32m      3\u001b[0m \u001b[0mrepr\u001b[0m\u001b[1;33m(\u001b[0m\u001b[0mr\u001b[0m\u001b[1;33m)\u001b[0m\u001b[1;33m\u001b[0m\u001b[1;33m\u001b[0m\u001b[0m\n",
      "\u001b[1;31mNameError\u001b[0m: name 'sqrt' is not defined"
     ]
    }
   ],
   "source": [
    "r = sqrt(a)\n",
    "print(format(r, '.53g'))"
   ]
  },
  {
   "cell_type": "code",
   "execution_count": 2,
   "metadata": {},
   "outputs": [],
   "source": [
    "def sqrt(x):\n",
    "    \"\"\"\n",
    "    A function to calculate the square root of a number x.\n",
    "    \"\"\"\n",
    "    # initial guess for the square root of z\n",
    "    z = x / 2.5\n",
    "    # loop unitl happy with accuracy \n",
    "    while abs(x - (z * z)) > 0.000001 :\n",
    "        # calculate a better guess for the square root\n",
    "        z -= (z*z - x) / (2 * z)\n",
    "    # Return the approximate square root of x\n",
    "    return z"
   ]
  },
  {
   "cell_type": "code",
   "execution_count": 16,
   "metadata": {},
   "outputs": [
    {
     "name": "stdout",
     "output_type": "stream",
     "text": [
      "1.414213565849603781998666818253695964813232421875\n"
     ]
    },
    {
     "data": {
      "text/plain": [
       "'1.4142135658496038'"
      ]
     },
     "execution_count": 16,
     "metadata": {},
     "output_type": "execute_result"
    }
   ],
   "source": [
    "r = sqrt(2)\n",
    "print(format(r, '.53g'))\n",
    "repr(r)\n"
   ]
  },
  {
   "cell_type": "markdown",
   "metadata": {},
   "source": [
    "### References\n",
    "\n",
    "[1] Square Root Definition; https://www.mathsisfun.com/definitions/square-root.html\n",
    "\n",
    "[2] Babylonian Method; https://en.wikipedia.org/wiki/Methods_of_computing_square_roots\n",
    "\n",
    "[3] A tour of Go; Exercises: Loops and Functions;  https://tour.golang.org/flowcontrol/8\n",
    "\n",
    "[4] Floating Point Arithmetic: Issues and Limitations; https://docs.python.org/3/tutorial/floatingpoint.html\n",
    "\n",
    "[5] Square root of 2 to one million places; https://apod.nasa.gov/htmltest/gifcity/sqrt2.1mil\n",
    "\n",
    "[6] Floating Point Numbers; https://floating-point-gui.de/formats/fp/\n",
    "\n",
    "[7] IEEE 754-2008; https://en.wikipedia.org/wiki/IEEE_754-2008_revision\n",
    "\n",
    "[8] Geeks for Geeks; https://www.geeksforgeeks.org/python-float-type-and-its-methods/\n"
   ]
  },
  {
   "cell_type": "markdown",
   "metadata": {},
   "source": [
    "### Task 2: Chi squared Test"
   ]
  },
  {
   "cell_type": "markdown",
   "metadata": {},
   "source": [
    "<span style=\"text-decoration: underline\">                  A    B    C    D    Total</span> \n",
    "<br>\n",
    "<span>White Collar 90 60    104 95 349</span>\n",
    "<br>\n",
    "<span>Blue Collar   30 50    51 20 151</span>\n",
    "<br>\n",
    "<span>No Collar     30 40   45 35  150</span>\n",
    "<br>\n",
    "<span style=\"text-decoration: bold\">Total        150 150 200 150 650</span>"
   ]
  },
  {
   "cell_type": "code",
   "execution_count": null,
   "metadata": {},
   "outputs": [],
   "source": []
  }
 ],
 "metadata": {
  "kernelspec": {
   "display_name": "Python 3",
   "language": "python",
   "name": "python3"
  },
  "language_info": {
   "codemirror_mode": {
    "name": "ipython",
    "version": 3
   },
   "file_extension": ".py",
   "mimetype": "text/x-python",
   "name": "python",
   "nbconvert_exporter": "python",
   "pygments_lexer": "ipython3",
   "version": "3.8.3"
  }
 },
 "nbformat": 4,
 "nbformat_minor": 4
}
